{
 "cells": [
  {
   "cell_type": "markdown",
   "metadata": {},
   "source": [
    "# Reduce GIWAXS Transformation"
   ]
  },
  {
   "cell_type": "code",
   "execution_count": null,
   "metadata": {},
   "outputs": [],
   "source": [
    "from pathlib import Path\n",
    "\n",
    "import fabio\n",
    "import numpy as np\n",
    "import matplotlib.pylab as plt\n",
    "import gixpy\n",
    "from matplotlib.colors import LogNorm\n",
    "import matplotlib\n",
    "matplotlib.rcParams['mathtext.fontset'] = 'cm'\n",
    "matplotlib.rcParams['font.family'] = 'STIXGeneral'\n",
    "\n",
    "title = \"\"          # adds this to the title of the plots\n",
    "path = Path.cwd()\n",
    "\n",
    "IM_SIZE = (6.3, 3)  # inches\n",
    "\n",
    "data_file = \"data_file_name.edf\"\n",
    "\n",
    "flat_field_file = \"flat-field_file_name.edf\"\n",
    "\n",
    "data = fabio.open(path / data_file)\n",
    "header = data.header\n",
    "print(\"\\nEDF header:\")\n",
    "print(header)\n",
    "raw_stitch = data.data.astype(np.float64)\n",
    "flat_field = fabio.open(path / flat_field_file).data.astype(np.float64)\n",
    "\n",
    "fig, ax = plt.subplots(1, 1, figsize=IM_SIZE, facecolor=\"w\")\n",
    "pos = ax.imshow(raw_stitch, norm=LogNorm(1, np.max(raw_stitch)))\n",
    "ax.set_title(\"Stitched Data\")\n",
    "ax.set_xlabel(\"column (pixels)\")\n",
    "ax.set_ylabel(\"row (pixels)\")\n",
    "fig.colorbar(pos, ax=ax, shrink=0.7, label=\"counts\")\n",
    "fig.tight_layout()\n",
    "\n",
    "fig, ax = plt.subplots(1, 1, figsize=IM_SIZE, facecolor=\"w\")\n",
    "pos = ax.imshow(flat_field)\n",
    "ax.set_title(\"Flat Field\")\n",
    "ax.set_xlabel(\"column (pixels)\")\n",
    "ax.set_ylabel(\"row (pixels)\")\n",
    "fig.colorbar(pos, ax=ax, shrink=0.7, label=\"relative sensitivity\")\n",
    "fig.tight_layout()"
   ]
  },
  {
   "cell_type": "markdown",
   "metadata": {},
   "source": [
    "## Adust pixel weights for presentation of stitch"
   ]
  },
  {
   "cell_type": "code",
   "execution_count": null,
   "metadata": {},
   "outputs": [],
   "source": [
    "adjusted_stitch = raw_stitch / flat_field\n",
    "adjusted_stitch[np.where(adjusted_stitch == np.infty)] = 0\n",
    "adjusted_stitch = np.nan_to_num(adjusted_stitch)\n",
    "\n",
    "fig, ax = plt.subplots(1, 1, figsize=IM_SIZE, facecolor=\"w\")\n",
    "pos = ax.imshow(adjusted_stitch, norm=LogNorm(1, np.max(adjusted_stitch)))\n",
    "ax.set_title(title)\n",
    "ax.set_xlabel(\"column (pixels)\")\n",
    "ax.set_ylabel(\"row (pixels)\")\n",
    "fig.colorbar(pos, ax=ax, shrink=0.7)\n",
    "fig.tight_layout()\n",
    "fig.savefig(\"stitched_image.png\", dpi=300, bbox_inches=\"tight\")\n",
    "\n",
    "del adjusted_stitch"
   ]
  },
  {
   "cell_type": "markdown",
   "metadata": {},
   "source": [
    "## Find beam center and tilt\n",
    "\n",
    "Get `det_dist` from specular scan to create default azimuthalIntegrator"
   ]
  },
  {
   "cell_type": "code",
   "execution_count": null,
   "metadata": {},
   "outputs": [],
   "source": [
    "%matplotlib widget\n",
    "\n",
    "det_dist = header[\"DetectorDistance(m)\"]\n",
    "incident_angle = header[\"IncidentAngle(deg)\"]\n",
    "ai = gixpy.new_poni(det_dist, poni1=0.012625, poni2=.075, shape=raw_stitch.shape)\n",
    "# print(ai._dist)\n",
    "print(ai)\n",
    "print(\"\")\n",
    "\n",
    "beam_finder = gixpy.PoniNudger(ai, raw_stitch, flat_field=flat_field, incident_angle=incident_angle, radii=[12, 5])"
   ]
  },
  {
   "cell_type": "markdown",
   "metadata": {},
   "source": [
    "Nudge beam center by number of pixels until the horizon line matches where the data is occluded.\n",
    "\n",
    "Run this next cell to adjust plot above until the beam center is correct."
   ]
  },
  {
   "cell_type": "code",
   "execution_count": null,
   "metadata": {},
   "outputs": [],
   "source": [
    "print(f\"Brightest pixel has {beam_finder.data.max()} counts\")\n",
    "tilt_angle = 0.15   # degrees\n",
    "\n",
    "# these numbers correspond to lattice plane spacings in angstrom\n",
    "beam_finder.radii = [13.3, 10, 7, 5.2, 4.85, 4.5]   \n",
    "\n",
    "beam_finder.set_tilt(tilt_angle)\n",
    "\n",
    "beam_finder.set_nudge(\n",
    "    0,   # nudge up\n",
    "    0    # nudge right\n",
    ")\n",
    "beam_finder.show(12)"
   ]
  },
  {
   "cell_type": "markdown",
   "metadata": {},
   "source": [
    "Save the PONI file once nudging is complete"
   ]
  },
  {
   "cell_type": "code",
   "execution_count": null,
   "metadata": {},
   "outputs": [],
   "source": [
    "%matplotlib inline\n",
    "\n",
    "beam_finder.save(path / \"cal.poni\", orientation=2)\n",
    "\n",
    "del beam_finder\n",
    "plt.show()"
   ]
  },
  {
   "cell_type": "markdown",
   "metadata": {},
   "source": [
    "## Transform"
   ]
  },
  {
   "cell_type": "code",
   "execution_count": null,
   "metadata": {},
   "outputs": [],
   "source": [
    "transformer = gixpy.GIXS(float(incident_angle), tilt_angle, Path(\"cal.poni\"))\n",
    "data_trans, flat_trans = transformer.transform(raw_stitch, flat_field, waveguiding=True)\n",
    "transformed_filename = data_file.name.strip(\"_data.edf\")\n",
    "transformer.save_edf(transformed_filename)\n",
    "\n",
    "print(\"Transformed geometry\")\n",
    "print(transformer.ai)\n",
    "print(\"\")\n",
    "\n",
    "fig, ax = plt.subplots(1, 1, figsize=IM_SIZE, facecolor=\"w\")\n",
    "pos = ax.imshow(data_trans, norm=LogNorm(1, np.max(data_trans)))\n",
    "ax.set_title(\"Stitched Data\")\n",
    "ax.set_xlabel(\"column (pixels)\")\n",
    "ax.set_ylabel(\"row (pixels)\")\n",
    "fig.colorbar(pos, ax=ax, shrink=0.7, label=\"counts\")\n",
    "fig.tight_layout()\n",
    "\n",
    "fig, ax = plt.subplots(1, 1, figsize=IM_SIZE, facecolor=\"w\")\n",
    "pos = ax.imshow(flat_trans)\n",
    "ax.set_title(\"Flat Field\")\n",
    "ax.set_xlabel(\"column (pixels)\")\n",
    "ax.set_ylabel(\"row (pixels)\")\n",
    "fig.colorbar(pos, ax=ax, shrink=0.7, label=\"relative sensitivity\")\n",
    "fig.tight_layout()"
   ]
  },
  {
   "cell_type": "markdown",
   "metadata": {},
   "source": [
    "`ctrl + backtick` to open terminal\n",
    "\n",
    "following cell will copy a command into clipboard, and then paste it to open mask maker."
   ]
  },
  {
   "cell_type": "code",
   "execution_count": null,
   "metadata": {},
   "outputs": [],
   "source": [
    "import subprocess\n",
    "\n",
    "path_to_image = str(path / (transformed_filename + \"_data_transformed.edf\"))\n",
    "path_to_detector = str(path / \"detector.h5\")\n",
    "to_copy = f'pyFAI-calib2 \"{path_to_image}\" -D \"{path_to_detector}\"'\n",
    "try:\n",
    "    subprocess.run(\"clip\", text=True, input=to_copy)\n",
    "except:\n",
    "    print(\"Failed to copy to clipboard automatically. Do it manually:\")\n",
    "print(to_copy)"
   ]
  },
  {
   "cell_type": "code",
   "execution_count": null,
   "metadata": {},
   "outputs": [],
   "source": [
    "adjusted_trans = data_trans / flat_trans\n",
    "adjusted_trans[np.where(adjusted_trans == np.infty)] = 0\n",
    "adjusted_trans = np.nan_to_num(adjusted_trans)\n",
    "\n",
    "fig, ax = plt.subplots(1, 1, figsize=IM_SIZE, facecolor=\"w\")\n",
    "pos = ax.imshow(adjusted_trans, norm=LogNorm(1, np.max(adjusted_trans)))\n",
    "ax.set_title(title)\n",
    "ax.set_xlabel(\"column (pixels)\")\n",
    "ax.set_ylabel(\"row (pixels)\")\n",
    "fig.colorbar(pos, ax=ax, shrink=0.7)\n",
    "fig.tight_layout()\n",
    "fig.savefig(\"transformed_image.png\", dpi=300, bbox_inches=\"tight\")\n",
    "\n",
    "del adjusted_trans"
   ]
  },
  {
   "cell_type": "markdown",
   "metadata": {},
   "source": [
    "## Make a mask\n",
    "\n",
    "Run `pyFAI-calib2` to make a mask"
   ]
  },
  {
   "cell_type": "code",
   "execution_count": null,
   "metadata": {},
   "outputs": [],
   "source": [
    "transformer.load_mask(path / \"mask.edf\")\n",
    "\n",
    "fig, ax = plt.subplots(1, 1, figsize=IM_SIZE, facecolor=\"w\")\n",
    "pos = ax.imshow(transformer.mask)\n",
    "ax.set_title(title)\n",
    "ax.set_xlabel(\"column (pixels)\")\n",
    "ax.set_ylabel(\"row (pixels)\")\n",
    "fig.colorbar(pos, ax=ax, shrink=0.7)\n",
    "fig.tight_layout()"
   ]
  },
  {
   "cell_type": "markdown",
   "metadata": {},
   "source": [
    "## Cake"
   ]
  },
  {
   "cell_type": "code",
   "execution_count": null,
   "metadata": {},
   "outputs": [],
   "source": [
    "chi_range = (-180, 180)     # negative is the top side\n",
    "\n",
    "cake = transformer.integrate2d(\n",
    "    q_bins=500, \n",
    "    azimuthal_bins=360, \n",
    "    radial_range=None,\n",
    "    azimuth_range=chi_range\n",
    ")\n",
    "\n",
    "print(cake[0].max())\n",
    "print(np.sum(cake[0]))\n",
    "\n",
    "fig, ax = plt.subplots(1, 1, figsize=(4, 3), facecolor=\"w\")\n",
    "pos = ax.imshow(cake[0], norm=LogNorm(1, np.max(cake[0])),\n",
    "                 extent=(np.min(cake[1]), np.max(cake[1]), np.min(cake[2]), np.max(cake[2])),\n",
    "                 aspect='auto')\n",
    "fig_title = \"Cake\"\n",
    "if title:\n",
    "    fig_title = title + \"\\n\" + fig_title\n",
    "ax.set_title(fig_title)\n",
    "ax.set_xlabel(r\"$q\\ (\\mathregular{\\AA}^{-1})$\")\n",
    "ax.set_ylabel(r\"$\\psi\\ (\\degree)$\")\n",
    "# ax.set_yticks(np.arange(0, 181, 20))\n",
    "# ax.set_ylim(0, 180)\n",
    "ax.yaxis.set_minor_locator(matplotlib.ticker.AutoMinorLocator())\n",
    "ax.tick_params(axis=\"both\", which=\"both\", direction=\"in\", top=True, right=True)\n",
    "# ax.set_xticks(np.arange(0, np.min(cake[1]) + np.max(cake[1]), 0.5))\n",
    "ax.xaxis.set_minor_locator(matplotlib.ticker.AutoMinorLocator())\n",
    "fig.colorbar(pos, ax=ax)\n",
    "fig.tight_layout()\n",
    "fig.savefig(f\"{title.replace('@', 'a')}-cake.png\".lstrip(\"-\"), dpi=300, bbox_inches=\"tight\")"
   ]
  },
  {
   "cell_type": "markdown",
   "metadata": {},
   "source": [
    "# Sectors"
   ]
  },
  {
   "cell_type": "code",
   "execution_count": null,
   "metadata": {},
   "outputs": [],
   "source": [
    "def check_and_unlink(sector_name, range):\n",
    "    sector_name += \"_({},{}).edf\".format(*range)\n",
    "    if (transformer.dir / \"sectors\" / sector_name).is_file():\n",
    "        (transformer.dir / \"sectors\" / sector_name).unlink()"
   ]
  },
  {
   "cell_type": "markdown",
   "metadata": {},
   "source": [
    "## Full sector"
   ]
  },
  {
   "cell_type": "code",
   "execution_count": null,
   "metadata": {},
   "outputs": [],
   "source": [
    "azimuthal_range = (0, 180)\n",
    "\n",
    "sector_name = \"sector_full\"\n",
    "check_and_unlink(sector_name, azimuthal_range)\n",
    "\n",
    "redu = transformer.sector(\n",
    "    file_to_save=sector_name,\n",
    "    q_range=None,\n",
    "    azimuth_range=azimuthal_range,\n",
    "    exposure_time=header[\"ExposureTime(s)\"],\n",
    "    q_bins=1000\n",
    ")\n",
    "\n",
    "fig, ax = plt.subplots(1, 1, figsize=(4, 3))\n",
    "\n",
    "ax.scatter(\n",
    "    redu[0], redu[1],\n",
    "    s=5,  # marker size\n",
    "    marker=\"o\",  # marker shape\n",
    "    edgecolors=\"black\",  # marker edge color\n",
    "    lw=.75,  # marker edge width\n",
    "    alpha=1,  # transparency\n",
    "    facecolor='w'  # marker face color\n",
    ")\n",
    "\n",
    "\n",
    "ax.set_title(title + \": ${}\\\\degree-{}\\\\degree$ reduction\".format(*azimuthal_range))\n",
    "ax.xaxis.set_minor_locator(matplotlib.ticker.AutoMinorLocator())\n",
    "# ax.set_xticks(np.arange(0, np.min(redu[0]) + np.max(redu[0]), 0.5))\n",
    "ax.yaxis.set_minor_locator(matplotlib.ticker.AutoMinorLocator())\n",
    "ax.set_xlabel(r\"$q\\ (\\mathregular{\\AA}^{-1})$\")\n",
    "ax.grid(linestyle='dotted')\n",
    "ax.set_ylabel(r\"Intensity (counts / (min $\\cdot$ apparent pixel)\")\n",
    "ax.set_yscale(\"log\")\n",
    "ax.tick_params(axis='both', which='both', direction='in', right=True, top=True)\n",
    "fig.savefig(f\"sectors/{title.replace('@', 'a')}-reduction-full.png\".lstrip(\"-\"), dpi=500, bbox_inches=\"tight\")"
   ]
  },
  {
   "cell_type": "markdown",
   "metadata": {},
   "source": [
    "## Out-of-plane"
   ]
  },
  {
   "cell_type": "code",
   "execution_count": null,
   "metadata": {},
   "outputs": [],
   "source": [
    "azimuthal_range = (80, 110)\n",
    "\n",
    "sector_name = \"sector_oop\"\n",
    "check_and_unlink(sector_name, azimuthal_range)\n",
    "\n",
    "redu = transformer.sector(\n",
    "    file_to_save=sector_name,\n",
    "    q_range=None,\n",
    "    azimuth_range=(80, 110),\n",
    "    exposure_time=header[\"ExposureTime(s)\"],\n",
    "    q_bins=1000\n",
    ")\n",
    "\n",
    "fig, ax = plt.subplots(1, 1, figsize=(4, 3))\n",
    "\n",
    "ax.scatter(\n",
    "    redu[0], redu[1],\n",
    "    s=5,  # marker size\n",
    "    marker=\"o\",  # marker shape\n",
    "    edgecolors=\"black\",  # marker edge color\n",
    "    lw=.75,  # marker edge width\n",
    "    alpha=1,  # transparency\n",
    "    facecolor='w'  # marker face color\n",
    ")\n",
    "\n",
    "\n",
    "ax.set_title(title + \": ${}\\\\degree-{}\\\\degree$ reduction\".format(*azimuthal_range))\n",
    "ax.xaxis.set_minor_locator(matplotlib.ticker.AutoMinorLocator())\n",
    "# ax.set_xticks(np.arange(0, np.min(redu[0]) + np.max(redu[0]), 0.5))\n",
    "ax.yaxis.set_minor_locator(matplotlib.ticker.AutoMinorLocator())\n",
    "ax.set_xlabel(r\"$q\\ (\\mathregular{\\AA}^{-1})$\")\n",
    "ax.grid(linestyle='dotted')\n",
    "ax.set_ylabel(r\"Intensity (counts / (min $\\cdot$ apparent pixel)\")\n",
    "ax.set_yscale(\"log\")\n",
    "ax.tick_params(axis='both', which='both', direction='in', right=True, top=True)\n",
    "# fig.savefig(sectors/f\"{title.replace('@', 'a')}-reduction-oop.png\".lstrip(\"-\"), dpi=300, bbox_inches=\"tight\")"
   ]
  },
  {
   "cell_type": "markdown",
   "metadata": {},
   "source": [
    "## In-plane"
   ]
  },
  {
   "cell_type": "code",
   "execution_count": null,
   "metadata": {},
   "outputs": [],
   "source": [
    "azimuthal_range = (20, 50)\n",
    "\n",
    "sector_name = \"sector_ip\"\n",
    "check_and_unlink(sector_name, azimuthal_range)\n",
    "\n",
    "redu = transformer.sector(\n",
    "    file_to_save=sector_name,\n",
    "    q_range=None,\n",
    "    azimuth_range=azimuthal_range,\n",
    "    exposure_time=header[\"ExposureTime(s)\"],\n",
    "    q_bins=1000\n",
    ")\n",
    "\n",
    "fig, ax = plt.subplots(1, 1, figsize=(4, 3))\n",
    "\n",
    "ax.scatter(\n",
    "    redu[0], redu[1],\n",
    "    s=5,  # marker size\n",
    "    marker=\"o\",  # marker shape\n",
    "    edgecolors=\"black\",  # marker edge color\n",
    "    lw=.75,  # marker edge width\n",
    "    alpha=1,  # transparency\n",
    "    facecolor='w'  # marker face color\n",
    ")\n",
    "\n",
    "\n",
    "ax.set_title(title + \": ${}\\\\degree-{}\\\\degree$ reduction\".format(*azimuthal_range))\n",
    "ax.xaxis.set_minor_locator(matplotlib.ticker.AutoMinorLocator())\n",
    "# ax.set_xticks(np.arange(0, np.min(redu[0]) + np.max(redu[0]), 0.5))\n",
    "ax.yaxis.set_minor_locator(matplotlib.ticker.AutoMinorLocator())\n",
    "ax.set_xlabel(r\"$q\\ (\\mathregular{\\AA}^{-1})$\")\n",
    "ax.grid(linestyle='dotted')\n",
    "ax.set_ylabel(r\"Intensity (counts / (min $\\cdot$ apparent pixel)\")\n",
    "ax.set_yscale(\"log\")\n",
    "ax.tick_params(axis='both', which='both', direction='in', right=True, top=True)\n",
    "# fig.savefig(f\"sectors/{title.replace('@', 'a')}-reduction-dia.png\".lstrip(\"-\"), dpi=300, bbox_inches=\"tight\")"
   ]
  },
  {
   "cell_type": "markdown",
   "metadata": {},
   "source": [
    "## Diagonal"
   ]
  },
  {
   "cell_type": "code",
   "execution_count": null,
   "metadata": {},
   "outputs": [],
   "source": [
    "azimuthal_range = (20, 50)\n",
    "\n",
    "sector_name = \"sector_dia\"\n",
    "check_and_unlink(sector_name, azimuthal_range)\n",
    "\n",
    "redu = transformer.sector(\n",
    "    file_to_save=sector_name,\n",
    "    q_range=None,\n",
    "    azimuth_range=azimuthal_range,\n",
    "    exposure_time=header[\"ExposureTime(s)\"],\n",
    "    q_bins=1000\n",
    ")\n",
    "\n",
    "fig, ax = plt.subplots(1, 1, figsize=(4, 3))\n",
    "\n",
    "ax.scatter(\n",
    "    redu[0], redu[1],\n",
    "    s=5,  # marker size\n",
    "    marker=\"o\",  # marker shape\n",
    "    edgecolors=\"black\",  # marker edge color\n",
    "    lw=.75,  # marker edge width\n",
    "    alpha=1,  # transparency\n",
    "    facecolor='w'  # marker face color\n",
    ")\n",
    "\n",
    "\n",
    "ax.set_title(title + \": ${}\\\\degree-{}\\\\degree$ reduction\".format(*azimuthal_range))\n",
    "ax.xaxis.set_minor_locator(matplotlib.ticker.AutoMinorLocator())\n",
    "# ax.set_xticks(np.arange(0, np.min(redu[0]) + np.max(redu[0]), 0.5))\n",
    "ax.yaxis.set_minor_locator(matplotlib.ticker.AutoMinorLocator())\n",
    "ax.set_xlabel(r\"$q\\ (\\mathregular{\\AA}^{-1})$\")\n",
    "ax.grid(linestyle='dotted')\n",
    "ax.set_ylabel(r\"Intensity (counts / (min $\\cdot$ apparent pixel)\")\n",
    "ax.set_yscale(\"log\")\n",
    "ax.tick_params(axis='both', which='both', direction='in', right=True, top=True)\n",
    "fig.savefig(f\"sectors/{title.replace('@', 'a')}-reduction-dia.png\".lstrip(\"-\"), dpi=300, bbox_inches=\"tight\")"
   ]
  }
 ],
 "metadata": {
  "kernelspec": {
   "display_name": "xrd",
   "language": "python",
   "name": "python3"
  },
  "language_info": {
   "codemirror_mode": {
    "name": "ipython",
    "version": 3
   },
   "file_extension": ".py",
   "mimetype": "text/x-python",
   "name": "python",
   "nbconvert_exporter": "python",
   "pygments_lexer": "ipython3",
   "version": "3.11.7"
  }
 },
 "nbformat": 4,
 "nbformat_minor": 2
}
